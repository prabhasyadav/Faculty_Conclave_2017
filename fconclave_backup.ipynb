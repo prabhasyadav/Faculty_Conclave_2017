{
 "cells": [
  {
   "cell_type": "markdown",
   "metadata": {
    "nbpresent": {
     "id": "ce37a974-47dd-402b-95e6-66e60d9f053c"
    },
    "slideshow": {
     "slide_type": "slide"
    }
   },
   "source": [
    "\n",
    "\n",
    "# Interactive Lecture Material Using Open Source Technologies\n",
    "<br> \n",
    "\n",
    "### Prabhas K. Yadav\n",
    "\n"
   ]
  },
  {
   "cell_type": "markdown",
   "metadata": {
    "nbpresent": {
     "id": "71cb4e09-fff4-402f-83a6-9ca22a504720"
    },
    "slideshow": {
     "slide_type": "slide"
    }
   },
   "source": [
    "\n",
    "A lecture material aka a slide contains:\n",
    "\n",
    "1. Texts\n",
    "2. Figures\n",
    "3. Mathematical expressions (symbols and their combinations)\n",
    "\n",
    "  \n"
   ]
  },
  {
   "cell_type": "markdown",
   "metadata": {
    "nbpresent": {
     "id": "ddf19fc7-6bdc-4a43-bb89-6fa78c952bdd"
    },
    "slideshow": {
     "slide_type": "subslide"
    }
   },
   "source": [
    "Among the above three points the interactiveness is easily possible for _mathematical expressions_.\n",
    "\n",
    "_Figures_, when not based on mathematical expression, are combination of different geometries and therefore, they can be mathematically expressed. But combining many geometries can be very time-consuming. \n",
    "\n",
    "_Texts_ are mostly emphasized."
   ]
  },
  {
   "cell_type": "markdown",
   "metadata": {
    "nbpresent": {
     "id": "420a6b8e-d36e-4371-8f68-b39e561bf1d2"
    },
    "slideshow": {
     "slide_type": "slide"
    }
   },
   "source": [
    "### How to make mathematical expression interactive?\n",
    "\n",
    "A mathematical expression is composed of symbols organized in some mathematical order. \n",
    "\n",
    "The initial mathematical order is further reordered based on mathematical operations.\n",
    "\n",
    "A mathematical derivation is a sequence of mathematical operations.\n",
    "\n",
    "\n"
   ]
  },
  {
   "cell_type": "markdown",
   "metadata": {
    "nbpresent": {
     "id": "d49d5e31-08f7-4b70-a413-d2d47319b0b8"
    },
    "slideshow": {
     "slide_type": "subslide"
    }
   },
   "source": [
    "#### A case of Energy depth plot used in Hydraulics\n",
    "\n",
    "Let us learn Specific Energy $E$ and Depth $y$ relation that is fundamental in hydraulics of open channel flow,\n",
    "i.e. the ($E-y$) plot.  We further find _critical depth_ $y_c$ and the corresponding _critical energy_ ($E_c$).\n",
    "The **fundamental equation** is: $$ E = y + \\frac{q^2}{2gy^2}$$\n",
    "\n",
    "Where,\n",
    "$q$ [L$^2$/T] is discharge per unit width $b$ [L] of Channel  and $g$ = accleration due to gravity [L/T$^2$]"
   ]
  },
  {
   "cell_type": "code",
   "execution_count": 6,
   "metadata": {
    "slideshow": {
     "slide_type": "skip"
    }
   },
   "outputs": [
    {
     "data": {
      "text/plain": [
       "'%.3f'"
      ]
     },
     "execution_count": 6,
     "metadata": {},
     "output_type": "execute_result"
    }
   ],
   "source": [
    "import sympy as sp \n",
    "from sympy.plotting import *\n",
    "sp.init_printing(use_latex='mathjax')\n",
    "import numpy as np\n",
    "import matplotlib.pyplot as plt\n",
    "%matplotlib inline\n",
    "%precision %.3f "
   ]
  },
  {
   "cell_type": "code",
   "execution_count": 5,
   "metadata": {
    "nbpresent": {
     "id": "a7993d51-13d9-4fd5-9996-f958512fa789"
    },
    "slideshow": {
     "slide_type": "slide"
    }
   },
   "outputs": [
    {
     "data": {
      "image/png": "[encoded data removed]",
      "text/plain": [
       "<matplotlib.figure.Figure at 0x7f5eb6ac4f28>"
      ]
     },
     "metadata": {},
     "output_type": "display_data"
    }
   ],
   "source": [
    "Q = 5 # Discharge \n",
    "g = 9.81 \n",
    "b = 3# width of the channel\n",
    "q = Q/b \n",
    "y=sp.symbols('y')\n",
    "p1=plot_parametric(y, y+(q**2/(2*g*y**2)), (y, 0.1, 5), xlabel='y',ylabel='E', line_color=\"red\") "
   ]
  },
  {
   "cell_type": "markdown",
   "metadata": {
    "nbpresent": {
     "id": "7e89307c-777e-459e-bb11-a35219f3ebaa"
    },
    "slideshow": {
     "slide_type": "slide"
    }
   },
   "source": [
    "In the open channel flow, $y$ is a more suitable parameter to explain the channel properties. Therefore, $E$ is put along the $x$-axis in the $E-y$ plot. This is simply rotating by 90$^\\circ$ the previous figure; we avoid transformation mathematics here, but get the more useful $E-y$ plot\n"
   ]
  },
  {
   "cell_type": "code",
   "execution_count": 5,
   "metadata": {
    "nbpresent": {
     "id": "893efcb2-94b2-4dbc-8767-e55b36ad08fa"
    },
    "scrolled": false,
    "slideshow": {
     "slide_type": "subslide"
    }
   },
   "outputs": [
    {
     "data": {
      "image/png": "[encoded data removed]",
      "text/plain": [
       "<matplotlib.figure.Figure at 0x7f8a046b76a0>"
      ]
     },
     "metadata": {},
     "output_type": "display_data"
    }
   ],
   "source": [
    "Q = 3 # Discharge \n",
    "g = 9.81 \n",
    "b = 2 # width of the channel\n",
    "q = Q/b \n",
    "y = np.linspace(0.1,5,100)\n",
    "\n",
    "plt.subplot(1,2,1)\n",
    "p1=plt.plot(y, y+(q**2/(2*g*y**2)), \"r-\") , plt.xlabel(\"y\"), plt.ylabel(\"E\")\n",
    "plt.subplot(1,2,2)\n",
    "p1=plt.plot(y+(q**2/(2*g*y**2)),y, \"b-\") , plt.xlabel(\"y\"), plt.ylabel(\"E\")\n",
    "plt.tight_layout() "
   ]
  },
  {
   "cell_type": "markdown",
   "metadata": {
    "nbpresent": {
     "id": "a79847d7-f9eb-4ffb-a8d8-65a99fd7cd76"
    },
    "slideshow": {
     "slide_type": "slide"
    }
   },
   "source": [
    "You observe that:\n",
    "\n",
    "1. For each $E$ there are two depths. These depths are called *alternate depths*.\n",
    "2. At only one point there is a single depth, which is called critical depth, $y_c$, and the corresponding energy is minimum energy, $E_c$.\n",
    "\n"
   ]
  },
  {
   "cell_type": "markdown",
   "metadata": {
    "nbpresent": {
     "id": "bb76a82f-e1aa-4ba8-8923-b248671f44dd"
    },
    "slideshow": {
     "slide_type": "slide"
    }
   },
   "source": [
    "The key questions are:\n",
    "\n",
    "1. what is the minimum energy?\n",
    "2. What is the critical depth., i.e. the depth at minimum energy.\n",
    "\n",
    "The answers are rather simple. For finding minimum energy $E_c$ all we need to do is take the first derivative with respect to $y$ of the *fundamental equation* and solve for $y$ by setting it equal to *zero*, i.e.,\n",
    "\n",
    "Solve for $y$ for $\\frac{dE}{dy} =0 $\n",
    "\n",
    "\n"
   ]
  },
  {
   "cell_type": "code",
   "execution_count": 9,
   "metadata": {
    "nbpresent": {
     "id": "99b1c8fa-3374-456c-a773-0f80a19fa43b"
    },
    "slideshow": {
     "slide_type": "subslide"
    }
   },
   "outputs": [
    {
     "name": "stdout",
     "output_type": "stream",
     "text": [
      "differentiating E with respect to y we get dE/dy =\n",
      "      2 \n",
      "     q  \n",
      "1 - ────\n",
      "       3\n",
      "    g⋅y \n",
      "equating dE/dy = 0, we get the critical depth y\n",
      "yc = \n"
     ]
    },
    {
     "data": {
      "text/latex": [
       "$$\\sqrt[3]{\\frac{q^{2}}{g}}$$"
      ],
      "text/plain": [
       "     ____\n",
       "    ╱  2 \n",
       "   ╱  q  \n",
       "3 ╱   ── \n",
       "╲╱    g  "
      ]
     },
     "execution_count": 9,
     "metadata": {},
     "output_type": "execute_result"
    }
   ],
   "source": [
    "y, g, q =sp.symbols(\"y g q\")\n",
    "E = y + (q**2/(2*g*y**2))\n",
    "print(\"differentiating E with respect to y we get dE/dy =\")\n",
    "E_c = sp.diff(E,y); \n",
    "sp.pprint(E_c)\n",
    "print(\"equating dE/dy = 0, we get the critical depth y\")\n",
    "y_c = sp.solve(E_c, y)\n",
    "yc =y_c[0] \n",
    "print(\"yc = \"); yc  "
   ]
  },
  {
   "cell_type": "markdown",
   "metadata": {
    "nbpresent": {
     "id": "89d3e854-76e4-4c06-9dab-bc675fafae5f"
    },
    "slideshow": {
     "slide_type": "slide"
    }
   },
   "source": [
    "For clarity we rename $y$ as $y_c$, thus we get: $y_c^3 = \\frac{q^2}{g}$.\n",
    "The subscript $c$ stands for _critical_\n",
    "\n",
    "Critical depth is a function of discharge per width, $q$,  only, i.e. we will have a unique $y_c$ for each $q$\n",
    "\n",
    "Substituting this in the _fundamental equation_, where we also replace $E$ with $E_c$ we get: \n"
   ]
  },
  {
   "cell_type": "code",
   "execution_count": 10,
   "metadata": {
    "nbpresent": {
     "id": "6eb5234e-9f91-476e-904a-ca59d52df387"
    },
    "slideshow": {
     "slide_type": "slide"
    }
   },
   "outputs": [
    {
     "name": "stdout",
     "output_type": "stream",
     "text": [
      "Ec= \n"
     ]
    },
    {
     "data": {
      "text/latex": [
       "$$\\frac{3 yc}{2}$$"
      ],
      "text/plain": [
       "3⋅yc\n",
       "────\n",
       " 2  "
      ]
     },
     "execution_count": 10,
     "metadata": {},
     "output_type": "execute_result"
    }
   ],
   "source": [
    "yc = sp.symbols('yc')\n",
    "h = yc**3==(q**2/(2*g))\n",
    "Ec = yc + yc**3*(1/(2*yc**2))\n",
    "print(\"Ec= \"); Ec"
   ]
  },
  {
   "cell_type": "markdown",
   "metadata": {
    "nbpresent": {
     "id": "1fce6806-139d-4d93-aaf2-85d53c73d829"
    },
    "slideshow": {
     "slide_type": "slide"
    }
   },
   "source": [
    "Probably now you are interested to see the effect of $q$ on the $E-y$ plot when of course $b$ is held fixed. You can do that by plotting several $E-y$ curves in a single plot."
   ]
  },
  {
   "cell_type": "code",
   "execution_count": 11,
   "metadata": {
    "nbpresent": {
     "id": "d13cd198-1d8e-40f5-89e8-0eb5fbe0ddff"
    },
    "slideshow": {
     "slide_type": "subslide"
    }
   },
   "outputs": [
    {
     "data": {
      "text/plain": [
       "[<matplotlib.lines.Line2D at 0x7f8a042aba90>,\n",
       " <matplotlib.lines.Line2D at 0x7f8a041b7f98>]"
      ]
     },
     "execution_count": 11,
     "metadata": {},
     "output_type": "execute_result"
    },
    {
     "data": {
      "image/png": "[encoded data removed]",
      "text/plain": [
       "<matplotlib.figure.Figure at 0x7f8a042aba58>"
      ]
     },
     "metadata": {},
     "output_type": "display_data"
    }
   ],
   "source": [
    "Q = np.array([2, 4 , 6]) # 3 discharges\n",
    "b = 5 # fixed b\n",
    "q = Q/b\n",
    "g = 9.81\n",
    "y = np.linspace(0.1,5,100)\n",
    "p1 = plt.plot(y +q[0]**2/(2*g*y**2),y , y +q[1]**2/(2*g*y**2), y, y +q[2]**2/(2*g*y**2),y)  \n",
    "plt.plot(((0,0), (1,1)), \"--\", color='grey')"
   ]
  },
  {
   "cell_type": "markdown",
   "metadata": {
    "nbpresent": {
     "id": "aedb557e-788f-4993-9da3-e29d4c9b4e1e"
    },
    "slideshow": {
     "slide_type": "slide"
    }
   },
   "source": [
    "We now solve an example problem taken from the course book. We solve **Example problem 2.1 (page # 46)**\n",
    "\n",
    "_A 2.5 m wide rectangular channel has a specific energy of 1.50 when carrying a discharge of 6.48 m$^3$/s.\n",
    "Calculate the alternate depths._\n",
    "\n",
    "**Solution**:\n",
    "\n",
    "The fundamental equation is: $ E = y + \\frac{q^2}{2gy^2}$\n"
   ]
  },
  {
   "cell_type": "code",
   "execution_count": 34,
   "metadata": {
    "nbpresent": {
     "id": "746f290a-e144-466f-8236-b3ec8b452f5e"
    },
    "slideshow": {
     "slide_type": "subslide"
    }
   },
   "outputs": [
    {
     "name": "stdout",
     "output_type": "stream",
     "text": [
      "We need to solve for y. The equation is non-linear\n",
      "Known are E = 1.5, g = 9.81, b=2.5, Q = 6.48 and q = Q/b or q = 6.48/2.5\n",
      "          0.342429357798165\n",
      "1.5 = y + ─────────────────\n",
      "                   2       \n",
      "                  y        \n"
     ]
    },
    {
     "data": {
      "image/png": "[encoded data removed]",
      "text/plain": [
       "<matplotlib.figure.Figure at 0x7f5eb6a5c080>"
      ]
     },
     "metadata": {},
     "output_type": "display_data"
    },
    {
     "name": "stdout",
     "output_type": "stream",
     "text": [
      "sol1 = 0.625288933447214\n",
      "sol2 = 1.29655691384252\n"
     ]
    }
   ],
   "source": [
    "plt.rcParams[\"figure.figsize\"] = (5,2)\n",
    "y, E, g, Q, b, q = sp.symbols(\"y E g Q b q\")\n",
    "eq1 = sp.Eq(E, y+q**2/(2*g*y**2)) \n",
    "print(\"We need to solve for y. The equation is non-linear\")\n",
    "print(\"Known are E = 1.5, g = 9.81, b=2.5, Q = 6.48 and q = Q/b or q = 6.48/2.5\")\n",
    "eq2 = eq1.subs({E:1.5, g:9.81, q:6.48/2.5}); sp.pprint(eq2) ;\n",
    "sp.plot(1.5-y-(0.342/y**2),(y, 0.3, 1.5), ylim=[-0.5, 0.25]) ;  \n",
    "sol1 = sp.nsolve(1.5-y-(0.342/y**2), y, 0.5); print(\"sol1 =\", sol1)\n",
    "sol2 = sp.nsolve(1.5-y-(0.342/y**2), y, 1.4); print(\"sol2 =\", sol2) "
   ]
  },
  {
   "cell_type": "markdown",
   "metadata": {
    "nbpresent": {
     "id": "04e11e02-791a-4520-ac7b-1af448caa3c2"
    },
    "slideshow": {
     "slide_type": "slide"
    }
   },
   "source": [
    "OH! Did I miss it. Can I paste my images in the slide.\n",
    "\n",
    "Surely- here it is: \n",
    "\n",
    "<center><img src=\"MUJLogo.png\" width=\"400\"></center>\n",
    "\n",
    "[Manipal University Jaipur](https://www.jaipur.manipal.edu \"Uni Homepage!\")\n"
   ]
  },
  {
   "cell_type": "markdown",
   "metadata": {
    "nbpresent": {
     "id": "c7cd8d3e-5366-4d30-b8a3-1c21897959d1"
    },
    "slideshow": {
     "slide_type": "subslide"
    }
   },
   "source": [
    "\n",
    "\n",
    "Life is beautiful ENJOY\n"
   ]
  }
 ],
 "metadata": {
  "anaconda-cloud": {},
  "celltoolbar": "Slideshow",
  "hide_input": false,
  "kernelspec": {
   "display_name": "Python [default]",
   "language": "python",
   "name": "python3"
  },
  "language_info": {
   "codemirror_mode": {
    "name": "ipython",
    "version": 3
   },
   "file_extension": ".py",
   "mimetype": "text/x-python",
   "name": "python",
   "nbconvert_exporter": "python",
   "pygments_lexer": "ipython3",
   "version": "3.5.2"
  },
  "latex_envs": {
   "bibliofile": "biblio.bib",
   "cite_by": "apalike",
   "current_citInitial": 1,
   "eqLabelWithNumbers": true,
   "eqNumInitial": 0
  },
  "nbpresent": {
   "slides": {
    "00706888-3162-4930-8ac4-2742aa923762": {
     "id": "00706888-3162-4930-8ac4-2742aa923762",
     "prev": "ccf2182a-837a-4bc3-a1bb-4fb93e0a5244",
     "regions": {
      "78222231-6354-4d61-986d-2eaf49ac8200": {
       "attrs": {
        "height": 3,
        "width": 0.8,
        "x": 0.1,
        "y": 0.1
       },
       "content": {
        "cell": "6eb5234e-9f91-476e-904a-ca59d52df387",
        "part": "whole"
       },
       "height": 3,
       "id": "78222231-6354-4d61-986d-2eaf49ac8200"
      }
     }
    },
    "04557861-e3e2-43da-a97e-918ec2a827c0": {
     "id": "04557861-e3e2-43da-a97e-918ec2a827c0",
     "prev": "cf8d46e1-39ab-4437-9565-6ed9cb0d46b3",
     "regions": {
      "fac8f29f-b58a-41d5-a931-63da31fde936": {
       "attrs": {
        "height": 0.8,
        "width": 0.8,
        "x": 0.1,
        "y": 0.1
       },
       "content": {
        "cell": "fd37ccb9-3a98-4351-9719-e363517bab8d",
        "part": "whole"
       },
       "id": "fac8f29f-b58a-41d5-a931-63da31fde936"
      }
     }
    },
    "090602eb-9079-4063-9905-81fda44518ec": {
     "id": "090602eb-9079-4063-9905-81fda44518ec",
     "prev": "ea05ef9e-6d84-4f81-9be6-22fa16fd5544",
     "regions": {
      "2db3b868-b0c5-4fd8-ad7e-29d281a23d6e": {
       "attrs": {
        "height": 0.8,
        "width": 0.8,
        "x": 0.1,
        "y": 0.1
       },
       "content": {
        "cell": "71cb4e09-fff4-402f-83a6-9ca22a504720",
        "part": "whole"
       },
       "id": "2db3b868-b0c5-4fd8-ad7e-29d281a23d6e"
      }
     }
    },
    "1553e196-60b3-4865-b77d-1a1c5fe7c7aa": {
     "id": "1553e196-60b3-4865-b77d-1a1c5fe7c7aa",
     "prev": "797e12d7-65e1-493e-97e1-c54c153d03d8",
     "regions": {
      "d0b41d37-9eb2-49cc-802d-f5cf62618186": {
       "attrs": {
        "height": 0.8,
        "width": 0.8,
        "x": 0.1,
        "y": 0.1
       },
       "content": {
        "cell": "7e89307c-777e-459e-bb11-a35219f3ebaa",
        "part": "whole"
       },
       "id": "d0b41d37-9eb2-49cc-802d-f5cf62618186"
      }
     }
    },
    "2253adf1-7abc-456e-bfda-2761822203c2": {
     "id": "2253adf1-7abc-456e-bfda-2761822203c2",
     "prev": "d52b8cf8-e706-40e2-8557-4d7df4f086d4",
     "regions": {
      "98085b54-73fd-48f0-a76a-33e39ae2ed97": {
       "attrs": {
        "height": 0.8,
        "width": 0.8,
        "x": 0.1,
        "y": 0.1
       },
       "content": {
        "cell": "a79847d7-f9eb-4ffb-a8d8-65a99fd7cd76",
        "part": "whole"
       },
       "id": "98085b54-73fd-48f0-a76a-33e39ae2ed97"
      }
     }
    },
    "30ed370e-62f6-44d6-88a9-32fe51a2e1a6": {
     "id": "30ed370e-62f6-44d6-88a9-32fe51a2e1a6",
     "prev": "9efd1715-96a8-4ec8-b44a-5e617f30f475",
     "regions": {
      "7fcf9190-ca08-41f0-ae02-a16b3ecb6235": {
       "attrs": {
        "height": 0.8,
        "width": 0.8,
        "x": 0.1,
        "y": 0.1
       },
       "content": {
        "cell": "aedb557e-788f-4993-9da3-e29d4c9b4e1e",
        "part": "whole"
       },
       "id": "7fcf9190-ca08-41f0-ae02-a16b3ecb6235"
      }
     }
    },
    "3327b2ca-bb42-466d-b916-cfe1f0523f2a": {
     "id": "3327b2ca-bb42-466d-b916-cfe1f0523f2a",
     "prev": "2253adf1-7abc-456e-bfda-2761822203c2",
     "regions": {
      "1da930f2-bde2-45b7-8fbc-8a18cce5596a": {
       "attrs": {
        "height": 0.8,
        "width": 0.8,
        "x": 0.1,
        "y": 0.1
       },
       "content": {
        "cell": "bb76a82f-e1aa-4ba8-8923-b248671f44dd",
        "part": "whole"
       },
       "id": "1da930f2-bde2-45b7-8fbc-8a18cce5596a"
      }
     }
    },
    "3b89a0e4-6d9d-4b69-b780-ec8dc2596124": {
     "id": "3b89a0e4-6d9d-4b69-b780-ec8dc2596124",
     "prev": "30ed370e-62f6-44d6-88a9-32fe51a2e1a6",
     "regions": {
      "3995da0c-84e3-4503-b78e-1c30601bb4fa": {
       "attrs": {
        "height": 0.8,
        "width": 0.8,
        "x": 0.1,
        "y": 0.1
       },
       "content": {
        "cell": "746f290a-e144-466f-8236-b3ec8b452f5e",
        "part": "whole"
       },
       "id": "3995da0c-84e3-4503-b78e-1c30601bb4fa"
      }
     }
    },
    "652d2a46-3d83-442d-b083-1122842b1a12": {
     "id": "652d2a46-3d83-442d-b083-1122842b1a12",
     "prev": "e527842c-656a-41c8-a98e-5704b6012c49",
     "regions": {
      "c69b9eb0-c0db-4819-8ff8-9f88fcd0afaf": {
       "attrs": {
        "height": 0.8,
        "width": 0.8,
        "x": 0.1,
        "y": 0.1
       },
       "content": {
        "cell": "d49d5e31-08f7-4b70-a413-d2d47319b0b8",
        "part": "whole"
       },
       "id": "c69b9eb0-c0db-4819-8ff8-9f88fcd0afaf"
      }
     },
     "theme": "49b8bf85-26e8-49f4-aa37-64037c852d68"
    },
    "797e12d7-65e1-493e-97e1-c54c153d03d8": {
     "id": "797e12d7-65e1-493e-97e1-c54c153d03d8",
     "prev": "652d2a46-3d83-442d-b083-1122842b1a12",
     "regions": {
      "dbbd62fc-7d16-4210-82b0-fdc13e872d58": {
       "attrs": {
        "height": 0.8,
        "width": 0.8,
        "x": 0.1,
        "y": 0.1
       },
       "content": {
        "cell": "a7993d51-13d9-4fd5-9996-f958512fa789",
        "part": "whole"
       },
       "id": "dbbd62fc-7d16-4210-82b0-fdc13e872d58"
      }
     }
    },
    "99cc40a1-7578-47d3-9ee4-5c7cb8cdc4bc": {
     "id": "99cc40a1-7578-47d3-9ee4-5c7cb8cdc4bc",
     "prev": "cb63e23f-5044-4555-bd88-6a27fef3df70",
     "regions": {
      "ffe4629a-f1a9-42ff-88ba-1b71ca845bf2": {
       "attrs": {
        "height": 0.8,
        "width": 0.8,
        "x": 0.1,
        "y": 0.1
       },
       "content": {
        "cell": "c7cd8d3e-5366-4d30-b8a3-1c21897959d1",
        "part": "whole"
       },
       "id": "ffe4629a-f1a9-42ff-88ba-1b71ca845bf2"
      }
     }
    },
    "9efd1715-96a8-4ec8-b44a-5e617f30f475": {
     "id": "9efd1715-96a8-4ec8-b44a-5e617f30f475",
     "prev": "d83decfc-4332-47e4-8702-0e2f40fbcc8a",
     "regions": {
      "6b2492b6-058c-4c30-8ebc-9275f3f67e75": {
       "attrs": {
        "height": 0.8,
        "width": 0.8,
        "x": 0.1,
        "y": 0.1
       },
       "content": {
        "cell": "d13cd198-1d8e-40f5-89e8-0eb5fbe0ddff",
        "part": "whole"
       },
       "id": "6b2492b6-058c-4c30-8ebc-9275f3f67e75"
      }
     }
    },
    "c4785339-7b3c-48ca-99bb-0f301d4f06e9": {
     "id": "c4785339-7b3c-48ca-99bb-0f301d4f06e9",
     "prev": "3327b2ca-bb42-466d-b916-cfe1f0523f2a",
     "regions": {
      "42bd2757-c869-4db3-9c81-e125df4389e2": {
       "attrs": {
        "height": 0.8,
        "width": 0.8,
        "x": 0.1,
        "y": 0.1
       },
       "content": {
        "cell": "99b1c8fa-3374-456c-a773-0f80a19fa43b",
        "part": "whole"
       },
       "id": "42bd2757-c869-4db3-9c81-e125df4389e2"
      }
     }
    },
    "c5aaceb7-3819-4dc6-ba79-59e31b3ed418": {
     "id": "c5aaceb7-3819-4dc6-ba79-59e31b3ed418",
     "prev": "090602eb-9079-4063-9905-81fda44518ec",
     "regions": {
      "1b7fbff0-c376-4748-814d-c0df2ffa9b2b": {
       "attrs": {
        "height": 0.8,
        "width": 0.8,
        "x": 0.1,
        "y": 0.1
       },
       "content": {
        "cell": "ddf19fc7-6bdc-4a43-bb89-6fa78c952bdd",
        "part": "whole"
       },
       "id": "1b7fbff0-c376-4748-814d-c0df2ffa9b2b"
      }
     }
    },
    "cb63e23f-5044-4555-bd88-6a27fef3df70": {
     "id": "cb63e23f-5044-4555-bd88-6a27fef3df70",
     "prev": "f543833e-6ab3-431b-8faf-4d989229d7ed",
     "regions": {
      "1ffe804d-c9c5-46b3-9b82-28c823ca9b94": {
       "attrs": {
        "height": 0.8,
        "width": 0.8,
        "x": 0.1,
        "y": 0.1
       },
       "content": {
        "cell": "04e11e02-791a-4520-ac7b-1af448caa3c2",
        "part": "whole"
       },
       "id": "1ffe804d-c9c5-46b3-9b82-28c823ca9b94"
      }
     }
    },
    "ccf2182a-837a-4bc3-a1bb-4fb93e0a5244": {
     "id": "ccf2182a-837a-4bc3-a1bb-4fb93e0a5244",
     "prev": "c4785339-7b3c-48ca-99bb-0f301d4f06e9",
     "regions": {
      "dafd308f-a69b-40b4-ab28-4af0463969da": {
       "attrs": {
        "height": 0.8,
        "width": 0.8,
        "x": 0.1,
        "y": 0.1
       },
       "content": {
        "cell": "89d3e854-76e4-4c06-9dab-bc675fafae5f",
        "part": "whole"
       },
       "id": "dafd308f-a69b-40b4-ab28-4af0463969da"
      }
     }
    },
    "cf3931a2-0941-4174-9f68-bf7fa56e9e34": {
     "id": "cf3931a2-0941-4174-9f68-bf7fa56e9e34",
     "prev": "f4682cfd-96bc-4836-b7f6-197860a52de2",
     "regions": {
      "c28805ec-abdf-42c8-99e1-401360f03e63": {
       "attrs": {
        "height": 0.8,
        "width": 0.8,
        "x": 0.1,
        "y": 0.1
       },
       "content": {
        "cell": "de4f5f86-5f5b-481b-b807-5e5c31ca597e",
        "part": "whole"
       },
       "id": "c28805ec-abdf-42c8-99e1-401360f03e63"
      }
     }
    },
    "cf8d46e1-39ab-4437-9565-6ed9cb0d46b3": {
     "id": "cf8d46e1-39ab-4437-9565-6ed9cb0d46b3",
     "prev": "3b89a0e4-6d9d-4b69-b780-ec8dc2596124",
     "regions": {
      "b381db02-9aa9-4a76-a037-04309e2ad8ce": {
       "attrs": {
        "height": 0.8,
        "width": 0.8,
        "x": 0.1,
        "y": 0.1
       },
       "content": {
        "cell": "a7352d76-fdc3-4fbd-b714-0266680205a6",
        "part": "whole"
       },
       "id": "b381db02-9aa9-4a76-a037-04309e2ad8ce"
      }
     }
    },
    "d52b8cf8-e706-40e2-8557-4d7df4f086d4": {
     "id": "d52b8cf8-e706-40e2-8557-4d7df4f086d4",
     "prev": "1553e196-60b3-4865-b77d-1a1c5fe7c7aa",
     "regions": {
      "27f408cf-eeaf-40f4-aa9b-40ba9af0d80c": {
       "attrs": {
        "height": 0.8,
        "width": 0.8,
        "x": 0.1,
        "y": 0.1
       },
       "content": {
        "cell": "893efcb2-94b2-4dbc-8767-e55b36ad08fa",
        "part": "whole"
       },
       "id": "27f408cf-eeaf-40f4-aa9b-40ba9af0d80c"
      }
     }
    },
    "d83decfc-4332-47e4-8702-0e2f40fbcc8a": {
     "id": "d83decfc-4332-47e4-8702-0e2f40fbcc8a",
     "prev": "00706888-3162-4930-8ac4-2742aa923762",
     "regions": {
      "370bfcd3-e388-4dab-9dfa-8103d8cab582": {
       "attrs": {
        "height": 0.8,
        "width": 0.8,
        "x": 0.1,
        "y": 0.1
       },
       "content": {
        "cell": "1fce6806-139d-4d93-aaf2-85d53c73d829",
        "part": "whole"
       },
       "id": "370bfcd3-e388-4dab-9dfa-8103d8cab582"
      }
     }
    },
    "e527842c-656a-41c8-a98e-5704b6012c49": {
     "id": "e527842c-656a-41c8-a98e-5704b6012c49",
     "layout": "grid",
     "prev": "c5aaceb7-3819-4dc6-ba79-59e31b3ed418",
     "regions": {
      "50e5fc88-d3e0-46e1-b70a-b49b3f711328": {
       "attrs": {
        "height": 1,
        "pad": 0.01,
        "width": 1,
        "x": 0,
        "y": 0
       },
       "id": "50e5fc88-d3e0-46e1-b70a-b49b3f711328"
      },
      "b30de8f7-dd6a-4c83-99c1-3d461182b061": {
       "attrs": {
        "height": 0.8333333333333334,
        "pad": 0.01,
        "width": 0.8333333333333334,
        "x": 0.08333333333333333,
        "y": 0.08333333333333333
       },
       "content": {
        "cell": "420a6b8e-d36e-4371-8f68-b39e561bf1d2",
        "part": "whole"
       },
       "id": "b30de8f7-dd6a-4c83-99c1-3d461182b061"
      }
     }
    },
    "ea05ef9e-6d84-4f81-9be6-22fa16fd5544": {
     "id": "ea05ef9e-6d84-4f81-9be6-22fa16fd5544",
     "prev": null,
     "regions": {
      "dfa9e1bb-ae9b-45f9-b168-486b8b49b27c": {
       "attrs": {
        "height": 0.8,
        "width": 0.8,
        "x": 0.1,
        "y": 0.1
       },
       "content": {
        "cell": "ce37a974-47dd-402b-95e6-66e60d9f053c",
        "part": "whole"
       },
       "id": "dfa9e1bb-ae9b-45f9-b168-486b8b49b27c"
      }
     }
    },
    "f4682cfd-96bc-4836-b7f6-197860a52de2": {
     "id": "f4682cfd-96bc-4836-b7f6-197860a52de2",
     "prev": "04557861-e3e2-43da-a97e-918ec2a827c0",
     "regions": {
      "0735f1ff-3c24-4dae-8fa6-fe4793b324b8": {
       "attrs": {
        "height": 0.8,
        "width": 0.8,
        "x": 0.1,
        "y": 0.1
       },
       "content": {
        "cell": "9f0e4756-8a8c-47e9-8fcc-7b8fa1424c73",
        "part": "whole"
       },
       "id": "0735f1ff-3c24-4dae-8fa6-fe4793b324b8"
      }
     }
    },
    "f543833e-6ab3-431b-8faf-4d989229d7ed": {
     "id": "f543833e-6ab3-431b-8faf-4d989229d7ed",
     "prev": "cf3931a2-0941-4174-9f68-bf7fa56e9e34",
     "regions": {
      "0b5d5251-8fcf-4753-8499-77ec49e7e4e3": {
       "attrs": {
        "height": 0.8,
        "width": 0.8,
        "x": 0.1,
        "y": 0.1
       },
       "content": {
        "cell": "ae46967a-1210-4d15-850c-2e87a5a22905",
        "part": "whole"
       },
       "id": "0b5d5251-8fcf-4753-8499-77ec49e7e4e3"
      }
     }
    }
   },
   "themes": {
    "default": "49b8bf85-26e8-49f4-aa37-64037c852d68",
    "theme": {
     "49b8bf85-26e8-49f4-aa37-64037c852d68": {
      "id": "49b8bf85-26e8-49f4-aa37-64037c852d68",
      "palette": {
       "19cc588f-0593-49c9-9f4b-e4d7cc113b1c": {
        "id": "19cc588f-0593-49c9-9f4b-e4d7cc113b1c",
        "rgb": [
         252,
         252,
         252
        ]
       },
       "31af15d2-7e15-44c5-ab5e-e04b16a89eff": {
        "id": "31af15d2-7e15-44c5-ab5e-e04b16a89eff",
        "rgb": [
         68,
         68,
         68
        ]
       },
       "50f92c45-a630-455b-aec3-788680ec7410": {
        "id": "50f92c45-a630-455b-aec3-788680ec7410",
        "rgb": [
         155,
         177,
         192
        ]
       },
       "c5cc3653-2ee1-402a-aba2-7caae1da4f6c": {
        "id": "c5cc3653-2ee1-402a-aba2-7caae1da4f6c",
        "rgb": [
         43,
         126,
         184
        ]
       },
       "efa7f048-9acb-414c-8b04-a26811511a21": {
        "id": "efa7f048-9acb-414c-8b04-a26811511a21",
        "rgb": [
         25.118061674008803,
         73.60176211453744,
         107.4819383259912
        ]
       }
      },
      "rules": {
       "blockquote": {
        "color": "50f92c45-a630-455b-aec3-788680ec7410"
       },
       "code": {
        "font-family": "Anonymous Pro"
       },
       "h1": {
        "color": "c5cc3653-2ee1-402a-aba2-7caae1da4f6c",
        "font-family": "Lato",
        "font-size": 8
       },
       "h2": {
        "color": "c5cc3653-2ee1-402a-aba2-7caae1da4f6c",
        "font-family": "Lato",
        "font-size": 6
       },
       "h3": {
        "color": "50f92c45-a630-455b-aec3-788680ec7410",
        "font-family": "Lato",
        "font-size": 5.5
       },
       "h4": {
        "color": "c5cc3653-2ee1-402a-aba2-7caae1da4f6c",
        "font-family": "Lato",
        "font-size": 5
       },
       "h5": {
        "font-family": "Lato"
       },
       "h6": {
        "font-family": "Lato"
       },
       "h7": {
        "font-family": "Lato"
       },
       "pre": {
        "font-family": "Anonymous Pro",
        "font-size": 4
       }
      },
      "text-base": {
       "font-family": "Merriweather",
       "font-size": 4
      }
     }
    }
   }
  },
  "varInspector": {
   "cols": {
    "lenName": 16,
    "lenType": 16,
    "lenVar": 40
   },
   "kernels_config": {
    "python": {
     "delete_cmd_postfix": "",
     "delete_cmd_prefix": "del ",
     "library": "var_list.py",
     "varRefreshCmd": "print(var_dic_list())"
    },
    "r": {
     "delete_cmd_postfix": ") ",
     "delete_cmd_prefix": "rm(",
     "library": "var_list.r",
     "varRefreshCmd": "cat(var_dic_list()) "
    }
   },
   "position": {
    "height": "377px",
    "left": "996px",
    "right": "35px",
    "top": "120px",
    "width": "335px"
   },
   "types_to_exclude": [
    "module",
    "function",
    "builtin_function_or_method",
    "instance",
    "_Feature"
   ],
   "window_display": false
  }
 },
 "nbformat": 4,
 "nbformat_minor": 1
}
